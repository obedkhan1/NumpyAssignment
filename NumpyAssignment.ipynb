{
 "cells": [
  {
   "cell_type": "markdown",
   "metadata": {
    "id": "UZXjlass3ARu"
   },
   "source": [
    "\n",
    "# **1. Basic Array Manipulation:**\n"
   ]
  },
  {
   "cell_type": "markdown",
   "metadata": {
    "id": "tDWPQRm23C7o"
   },
   "source": [
    "Create a 1D array with values ranging from 0 to 9.\n"
   ]
  },
  {
   "cell_type": "code",
   "execution_count": 1,
   "metadata": {
    "id": "OvGF66_02Q8H"
   },
   "outputs": [
    {
     "name": "stdout",
     "output_type": "stream",
     "text": [
      "[0 1 2 3 4 5 6 7 8 9]\n"
     ]
    }
   ],
   "source": [
    "import numpy as np\n",
    "arr = np.array([0,1,2,3,4,5,6,7,8,9])\n",
    "print(arr)"
   ]
  },
  {
   "cell_type": "markdown",
   "metadata": {
    "id": "UYzIzPyB3Ne3"
   },
   "source": [
    "Reshape the array into a 3x3 matrix.\n",
    "\n",
    "Explore Reshape Function"
   ]
  },
  {
   "cell_type": "code",
   "execution_count": 2,
   "metadata": {
    "id": "RLlzDCBc2Q_P"
   },
   "outputs": [
    {
     "name": "stdout",
     "output_type": "stream",
     "text": [
      "[[1 2 3]\n",
      " [4 5 6]\n",
      " [7 8 9]]\n"
     ]
    }
   ],
   "source": [
    "import numpy as np\n",
    "\n",
    "arr = np.array([1,2,3,4,5,6,7,8,9]) \n",
    "\n",
    "reshaped_arr = arr.reshape(3, 3)\n",
    "\n",
    "print(reshaped_arr)"
   ]
  },
  {
   "cell_type": "markdown",
   "metadata": {
    "id": "KmhRK9Ti3Phn"
   },
   "source": [
    "Access the element at the second row, second column.\n"
   ]
  },
  {
   "cell_type": "code",
   "execution_count": 18,
   "metadata": {
    "id": "Dk_a1D3A3ijN"
   },
   "outputs": [
    {
     "name": "stdout",
     "output_type": "stream",
     "text": [
      "[[1 2 3]\n",
      " [4 5 6]\n",
      " [7 8 9]]\n",
      "5\n"
     ]
    }
   ],
   "source": [
    "import numpy as np\n",
    "\n",
    "arr = np.array([1,2,3,4,5,6,7,8,9]) \n",
    "\n",
    "reshaped_arr = arr.reshape(3, 3)\n",
    "\n",
    "print(reshaped_arr)\n",
    "\n",
    "element = reshaped_arr[1, 1]\n",
    "\n",
    "print(element)\n"
   ]
  },
  {
   "cell_type": "markdown",
   "metadata": {
    "id": "NlH7N-fZ36wc"
   },
   "source": [
    "Perform element-wise addition, subtraction, multiplication, and division on two arrays [1, 2, 3] and [4, 5, 6].\n"
   ]
  },
  {
   "cell_type": "code",
   "execution_count": 22,
   "metadata": {
    "id": "PkgNSo1a37kP"
   },
   "outputs": [
    {
     "name": "stdout",
     "output_type": "stream",
     "text": [
      "Element-wise addition: [5 7 9]\n",
      "Element-wise subtraction: [3 3 3]\n",
      "Element-wise multiplication: [ 4 10 18]\n",
      "Element-wise division: [4.  2.5 2. ]\n"
     ]
    }
   ],
   "source": [
    "import numpy as np\n",
    "\n",
    "arr1 = np.array([1, 2, 3])\n",
    "arr2 = np.array([4, 5, 6])\n",
    "\n",
    "sum_arr = arr1 + arr2\n",
    "\n",
    "print(\"Element-wise addition:\", sum_arr)  \n",
    "\n",
    "difference_arr = arr2 - arr1\n",
    "\n",
    "print(\"Element-wise subtraction:\", difference_arr)  \n",
    "\n",
    "product_arr = arr1 * arr2\n",
    "\n",
    "print(\"Element-wise multiplication:\", product_arr)  \n",
    "\n",
    "division_arr = arr2 / arr1\n",
    "\n",
    "print(\"Element-wise division:\", division_arr) "
   ]
  },
  {
   "cell_type": "markdown",
   "metadata": {
    "id": "JVt4zxkk8e0P"
   },
   "source": [
    "Find the sum, mean, and standard deviation of the array [1, 2, 3, 4, 5].\n"
   ]
  },
  {
   "cell_type": "code",
   "execution_count": 5,
   "metadata": {
    "id": "mQZxaZ0c8nhh"
   },
   "outputs": [
    {
     "name": "stdout",
     "output_type": "stream",
     "text": [
      "Sum: 15\n",
      "Mean: 3.0\n",
      "Standard deviation: 1.4142135623730951\n"
     ]
    }
   ],
   "source": [
    "import numpy as np\n",
    "\n",
    "arr = np.array([1, 2, 3, 4, 5])\n",
    "\n",
    "sum_of_elements = np.sum(arr)\n",
    "\n",
    "mean_of_elements = np.mean(arr)\n",
    "\n",
    "std_dev = np.std(arr)\n",
    "\n",
    "print(\"Sum:\", sum_of_elements)\n",
    "print(\"Mean:\", mean_of_elements)\n",
    "print(\"Standard deviation:\", std_dev)"
   ]
  },
  {
   "cell_type": "markdown",
   "metadata": {
    "id": "ji2XvW0Z8nn5"
   },
   "source": [
    "Reshape the array [1, 2, 3, 4, 5, 6] into a 2x3 array.\n",
    "\n",
    "Explore Reshape"
   ]
  },
  {
   "cell_type": "code",
   "execution_count": 6,
   "metadata": {
    "id": "FNbYlzyI8rAx"
   },
   "outputs": [
    {
     "name": "stdout",
     "output_type": "stream",
     "text": [
      "[[1 2 3]\n",
      " [4 5 6]]\n"
     ]
    }
   ],
   "source": [
    "import numpy as np\n",
    "\n",
    "arr = np.array([1, 2, 3, 4, 5, 6])\n",
    "\n",
    "reshaped_arr = arr.reshape(2, 3)\n",
    "\n",
    "print(reshaped_arr)"
   ]
  },
  {
   "cell_type": "markdown",
   "metadata": {
    "id": "OE-5o0th3SU4"
   },
   "source": [
    "\n",
    "# **2. Indexing and Slicing:**\n"
   ]
  },
  {
   "cell_type": "markdown",
   "metadata": {
    "id": "yqNKWBOl3an3"
   },
   "source": [
    "Create a 5x5 array with random integers.\n"
   ]
  },
  {
   "cell_type": "code",
   "execution_count": 7,
   "metadata": {
    "id": "G-kX4nme2RBn"
   },
   "outputs": [
    {
     "name": "stdout",
     "output_type": "stream",
     "text": [
      "[[98 37 59 25 93]\n",
      " [44 13 43 21 41]\n",
      " [28 53  1 77 29]\n",
      " [35 89 91 50 63]\n",
      " [22 62 52 30 44]]\n"
     ]
    }
   ],
   "source": [
    "import numpy as np\n",
    "\n",
    "min_value = 0\n",
    "\n",
    "max_value = 100\n",
    "\n",
    "random_arr = np.random.randint(min_value, max_value, size=(5, 5))\n",
    "\n",
    "print(random_arr)"
   ]
  },
  {
   "cell_type": "markdown",
   "metadata": {
    "id": "LlilKAMF3bMX"
   },
   "source": [
    "Replace all values in the sub-array with a specific value.\n"
   ]
  },
  {
   "cell_type": "code",
   "execution_count": 8,
   "metadata": {
    "id": "gShfqRGm2REI"
   },
   "outputs": [
    {
     "name": "stdout",
     "output_type": "stream",
     "text": [
      "Original array:\n",
      " [[97 81 10 98 72]\n",
      " [94 30 83 62  2]\n",
      " [86  1 55 97 12]\n",
      " [72 34 81 72 87]\n",
      " [73 30  8 81 67]]\n",
      "\n",
      "Array after replacing sub-array:\n",
      " [[97 81 10 98 72]\n",
      " [94 30 99 99  2]\n",
      " [86  1 99 99 12]\n",
      " [72 34 81 72 87]\n",
      " [73 30  8 81 67]]\n"
     ]
    }
   ],
   "source": [
    "import numpy as np\n",
    "\n",
    "random_arr = np.random.randint(0, 100, size=(5, 5))\n",
    "\n",
    "print(\"Original array:\\n\", random_arr)\n",
    "\n",
    "start_row = 1\n",
    "end_row = 3\n",
    "start_col = 2\n",
    "end_col = 4\n",
    "\n",
    "replacement_value = 99\n",
    "\n",
    "random_arr[start_row:end_row, start_col:end_col] = replacement_value\n",
    "\n",
    "print(\"\\nArray after replacing sub-array:\\n\", random_arr)"
   ]
  },
  {
   "cell_type": "markdown",
   "metadata": {
    "id": "1kUY7u023gfF"
   },
   "source": [
    "Extract the subarray [[3, 4], [7, 8]] from the array [[1, 2], [3, 4], [5, 6], [7, 8]].\n"
   ]
  },
  {
   "cell_type": "code",
   "execution_count": 9,
   "metadata": {
    "id": "UmgqjBwC3_4V"
   },
   "outputs": [
    {
     "name": "stdout",
     "output_type": "stream",
     "text": [
      "[[4]\n",
      " [6]]\n"
     ]
    }
   ],
   "source": [
    "import numpy as np\n",
    "\n",
    "arr = np.array([[1, 2], [3, 4], [5, 6], [7, 8]])\n",
    "\n",
    "sub_array = arr[1:3, 1:3]\n",
    "\n",
    "print(sub_array)"
   ]
  },
  {
   "cell_type": "markdown",
   "metadata": {
    "id": "vPrCHS_O3jK9"
   },
   "source": [
    "\n",
    "# **3. Broadcasting:**"
   ]
  },
  {
   "cell_type": "markdown",
   "metadata": {
    "id": "W3WUM5Cc3phc"
   },
   "source": [
    "Create a 2D array of shape (3, 3) with values from 0 to 2.\n"
   ]
  },
  {
   "cell_type": "code",
   "execution_count": 10,
   "metadata": {
    "id": "PxJrAlFW2RGw"
   },
   "outputs": [
    {
     "name": "stdout",
     "output_type": "stream",
     "text": [
      "[[0 1 2]\n",
      " [3 4 5]\n",
      " [6 7 8]]\n"
     ]
    }
   ],
   "source": [
    "import numpy as np\n",
    "\n",
    "shape = (3, 3)\n",
    "\n",
    "arr = np.arange(shape[0] * shape[1]).reshape(shape)\n",
    "\n",
    "print(arr)"
   ]
  },
  {
   "cell_type": "markdown",
   "metadata": {
    "id": "J5XPwN3A3rXG"
   },
   "source": [
    "Add a 1D array of shape (3,) to each row of the 2D array using broadcasting.\n"
   ]
  },
  {
   "cell_type": "code",
   "execution_count": 11,
   "metadata": {
    "id": "k4FM2g_c2RJv"
   },
   "outputs": [
    {
     "name": "stdout",
     "output_type": "stream",
     "text": [
      "[[10 11 12]\n",
      " [23 24 25]\n",
      " [36 37 38]]\n"
     ]
    }
   ],
   "source": [
    "import numpy as np\n",
    "\n",
    "shape = (3, 3)\n",
    "\n",
    "arr = np.arange(shape[0] * shape[1]).reshape(shape)\n",
    "\n",
    "one_d_array = np.array([10, 20, 30])\n",
    "\n",
    "arr += one_d_array[:, None]  # Reshape one_d_array to a column vector\n",
    "\n",
    "print(arr)"
   ]
  },
  {
   "cell_type": "markdown",
   "metadata": {
    "id": "9CbtQS3w4PA3"
   },
   "source": [
    "# **4. Concatenation and Splitting**"
   ]
  },
  {
   "cell_type": "markdown",
   "metadata": {
    "id": "yMg_umVy4ILG"
   },
   "source": [
    "\n",
    "1.   Create two 2D arrays of shape (3, 3) with random integers.\n",
    "2.   Concatenate them horizontally and vertically.\n",
    "3.   Split the concatenated arrays back into the original arrays.\n"
   ]
  },
  {
   "cell_type": "code",
   "execution_count": 12,
   "metadata": {
    "id": "wXiCa2Sn8XHP"
   },
   "outputs": [
    {
     "name": "stdout",
     "output_type": "stream",
     "text": [
      "Array 1:\n",
      " [[28 66 66]\n",
      " [32 57 29]\n",
      " [26 43 51]]\n",
      "Array 2:\n",
      " [[93 76 52]\n",
      " [54 23 71]\n",
      " [74 88 60]]\n"
     ]
    }
   ],
   "source": [
    "import numpy as np\n",
    "\n",
    "arr1 = np.random.randint(1, 100, size=(3, 3))\n",
    "\n",
    "arr2 = np.random.randint(1, 100, size=(3, 3))\n",
    "\n",
    "print(\"Array 1:\\n\", arr1)\n",
    "\n",
    "print(\"Array 2:\\n\", arr2)\n"
   ]
  },
  {
   "cell_type": "code",
   "execution_count": 13,
   "metadata": {
    "id": "yAiYe6vj8XSW"
   },
   "outputs": [
    {
     "name": "stdout",
     "output_type": "stream",
     "text": [
      "\n",
      "Concatenated horizontally:\n",
      " [[35 46 78 13 67 15]\n",
      " [41 30 68 61 65 24]\n",
      " [94 18 99 14 34 63]]\n",
      "\n",
      "Concatenated vertically:\n",
      " [[35 46 78]\n",
      " [41 30 68]\n",
      " [94 18 99]\n",
      " [13 67 15]\n",
      " [61 65 24]\n",
      " [14 34 63]]\n"
     ]
    }
   ],
   "source": [
    "import numpy as np\n",
    "\n",
    "arr1 = np.random.randint(1, 100, size=(3, 3))\n",
    "\n",
    "arr2 = np.random.randint(1, 100, size=(3, 3))\n",
    "\n",
    "concatenated_horizontal = np.concatenate((arr1, arr2), axis=1)\n",
    "\n",
    "concatenated_vertical = np.concatenate((arr1, arr2), axis=0)\n",
    "\n",
    "print(\"\\nConcatenated horizontally:\\n\", concatenated_horizontal)\n",
    "\n",
    "print(\"\\nConcatenated vertically:\\n\", concatenated_vertical)\n"
   ]
  },
  {
   "cell_type": "code",
   "execution_count": 14,
   "metadata": {
    "id": "lgMsjt-J8XZK"
   },
   "outputs": [
    {
     "name": "stdout",
     "output_type": "stream",
     "text": [
      "\n",
      "Split from concatenated horizontal (arr1):\n",
      " [[35 46 78]\n",
      " [41 30 68]\n",
      " [94 18 99]]\n",
      "\n",
      "Split from concatenated horizontal (arr2):\n",
      " [[13 67 15]\n",
      " [61 65 24]\n",
      " [14 34 63]]\n",
      "\n",
      "Split from concatenated vertical (arr1):\n",
      " [[35 46 78]\n",
      " [41 30 68]\n",
      " [94 18 99]]\n",
      "\n",
      "Split from concatenated vertical (arr2):\n",
      " [[13 67 15]\n",
      " [61 65 24]\n",
      " [14 34 63]]\n"
     ]
    }
   ],
   "source": [
    "import numpy as np\n",
    "\n",
    "arr1 = np.random.randint(1, 100, size=(3, 3))\n",
    "\n",
    "arr2 = np.random.randint(1, 100, size=(3, 3))\n",
    "\n",
    "arr1_split = concatenated_horizontal[:, :3]\n",
    "\n",
    "arr2_split = concatenated_horizontal[:, 3:]\n",
    "\n",
    "arr1_split_v = concatenated_vertical[:3, :]\n",
    "\n",
    "arr2_split_v = concatenated_vertical[3:, :]\n",
    "\n",
    "print(\"\\nSplit from concatenated horizontal (arr1):\\n\", arr1_split)\n",
    "print(\"\\nSplit from concatenated horizontal (arr2):\\n\", arr2_split)\n",
    "\n",
    "print(\"\\nSplit from concatenated vertical (arr1):\\n\", arr1_split_v)\n",
    "\n",
    "print(\"\\nSplit from concatenated vertical (arr2):\\n\", arr2_split_v)"
   ]
  },
  {
   "cell_type": "markdown",
   "metadata": {
    "id": "2CliNLH8YG3j"
   },
   "source": [
    "# **Bonus Question**\n",
    "\n",
    "Find mode of this array  = [1,2,1,2,3,4,5,6,8,9,1,2,2,22,21,1,1,1,1,2,5]\n",
    "\n",
    "Hint: Use count and also loop"
   ]
  },
  {
   "cell_type": "code",
   "execution_count": 15,
   "metadata": {
    "id": "JGe2Qe3SYaHq"
   },
   "outputs": [
    {
     "name": "stdout",
     "output_type": "stream",
     "text": [
      "Mode: 1\n"
     ]
    }
   ],
   "source": [
    "import numpy as np\n",
    "\n",
    "arr = np.array([1,2,1,2,3,4,5,6,8,9,1,2,2,22,21,1,1,1,1,2,5])\n",
    "\n",
    "mode_counts = {}\n",
    "\n",
    "for num in arr:\n",
    "    \n",
    "  if num in mode_counts:\n",
    "      \n",
    "    mode_counts[num] += 1\n",
    "  else:\n",
    "    mode_counts[num] = 1\n",
    "\n",
    "max_count = max(mode_counts.values())\n",
    "\n",
    "modes = [num for num, count in mode_counts.items() if count == max_count]\n",
    "\n",
    "if len(modes) == 1:\n",
    "    \n",
    "  print(\"Mode:\", modes[0])\n",
    "else:\n",
    "  print(\"Modes:\", modes)"
   ]
  },
  {
   "cell_type": "markdown",
   "metadata": {
    "id": "1t9n5GQdYbHN"
   },
   "source": [
    "# **Notes**\n",
    "\n",
    "\n",
    "1.   All the Questions carry Equal Points (2 points)\n",
    "\n",
    "2.   Bonus Question carry 5 points\n",
    "\n",
    "3.   Review lecture for any query\n",
    "\n",
    "Good Luck!\n",
    "\n"
   ]
  },
  {
   "cell_type": "code",
   "execution_count": null,
   "metadata": {
    "id": "yxT9-gJfYugV"
   },
   "outputs": [],
   "source": []
  }
 ],
 "metadata": {
  "colab": {
   "provenance": []
  },
  "kernelspec": {
   "display_name": "Python 3 (ipykernel)",
   "language": "python",
   "name": "python3"
  },
  "language_info": {
   "codemirror_mode": {
    "name": "ipython",
    "version": 3
   },
   "file_extension": ".py",
   "mimetype": "text/x-python",
   "name": "python",
   "nbconvert_exporter": "python",
   "pygments_lexer": "ipython3",
   "version": "3.11.7"
  }
 },
 "nbformat": 4,
 "nbformat_minor": 4
}
